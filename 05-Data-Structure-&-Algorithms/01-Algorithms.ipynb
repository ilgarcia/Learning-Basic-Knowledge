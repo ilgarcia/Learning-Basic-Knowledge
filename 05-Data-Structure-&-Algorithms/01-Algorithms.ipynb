{
 "cells": [
  {
   "cell_type": "markdown",
   "metadata": {},
   "source": [
    "# Counting Game\n",
    "\n",
    "## What is an algorithm\n",
    "\n",
    "*A set of steps or instructions for completing a task.*\n",
    "\n",
    "The task can have multiple viable solutions there's not only one best solution instead what we should try and figure out what solution works better for the current problem, some problems are pretty common and already have a set of solutions for the given task and knowing this solutions can be better to implement than resolving the problem yourself, your solution won't be as good or efficient compared to those that have been thoroughly reviewed.\n",
    "\n",
    "Part of understanding algorithm is not just knowing that an algorithm exist but properly understanding the problem, breaking the problem and then be able to identify witch algorithm or data structure is best to the task at hand (algorithm thinking). "
   ]
  },
  {
   "cell_type": "markdown",
   "metadata": {},
   "source": [
    "## Defining algorithm\n",
    "\n",
    "What makes an algorithm is the specificity of how it is defined, following a certain ser of guidelines and use the same steps to solve the problem each time we face it.\n",
    "\n",
    "- The algorithm must have a clear problem statement\n",
    "- How the inputs is defined and what the output looks like when the algorithm has done its job\n",
    "- Contain a specific set of instructions in a particular order, we really need to be clear about the order which these instructions are executed\n",
    "- The steps also need to be distinct\n",
    "- The algorithm should produce a result \n",
    "- Must be complete and can not take a infinite amount of time\n",
    "\n",
    "**Correctness**\n",
    "\n",
    "An algorithm is deemed correct if on every run of the algorithm against all possible values in the input data we always get the output we expect and for any possible input the algorithm should always terminate or end.\n",
    "\n",
    "**Efficiency**\n",
    "\n",
    "1. Efficiency measured by time (Time complexity) - Running time of an algorithm is how long it takes the algorithm to run\n",
    "\n",
    "2. Efficiency measured by space (Space complexity) - Amount of memory taken up on the computer\n",
    "\n",
    ":rotating_light: Good algorithms need to balance between these two mesures to be useful\n",
    "\n",
    "## Search algorithms example\n",
    "\n",
    "**linear search or sequencial search**\n",
    "\n",
    "1. Start at the beginning of the list or the range of values \n",
    "2. Compare the current value to the target if the current value:  \n",
    "    * Is equal the target we're looking for we're done\n",
    "    * Is not equal we'll on sequentially to the next value in the list and repeat step 2\n",
    "\n",
    "**Binary search**\n",
    "1. Start at the middle of the range \n",
    "2. Compare the current value to the target if the current value:  \n",
    "    * Is equal the target we're looking for we're done\n",
    "    * it is greater or less go to step 3\n",
    "3. Eliminate the values lower than the current value if the target is greater or Eliminate the values greater than the current value if the target is lower, after that start the processes again (step 1)"
   ]
  },
  {
   "cell_type": "markdown",
   "metadata": {},
   "source": [
    "## Big O Notation \n",
    "\n",
    "<p>\n",
    "  <img src=\"./img/big-o.png\" alt=\"big-o\" style=\"width:150px;\" />\n",
    "</p>\n",
    "\n",
    "Theoretical definition of the complexity of an algorithm as a function of the size.\n",
    "\n",
    "**O(n)** - Order of magnitude of complexity as the input sizes grow, also measures how the algorithm performs in the worst case scenario \n",
    "\n",
    "*Big O* is a useful notation for understanding both time and space complexity only when comparing amongst algorithms that solves the same problem.\n",
    "\n",
    "**Runtimes:**\n",
    "\n",
    "- Constant runtime **O(1)**\n",
    "\n",
    "Size doesn't matter and regardless of the size of *n* the algorithm runtime will remain the same\n",
    "\n",
    "- Logarithmic or sub-linear runtime **O(log n)**\n",
    "\n",
    "As the size of *n* grows the number of operations grows very slowly\n",
    "\n",
    "- Linear runtime **O(n)**\n",
    "\n",
    "The number of operations at the worst case scenario is at most the same size as *n*\n",
    "\n",
    "- Quadratic runtime **O(n<sup>2</sup>)**\n",
    "\n",
    "Any given value of n we carry out *n* squared number of operations\n",
    "\n",
    "we also have Cubic runtime **O(n<sup>3</sup>)**\n",
    "\n",
    "- Quasilinear runtimes **O(n log n)**\n",
    "\n",
    "For every value of *n* we're going to execute a log n number of operations hence the run time of n times log n\n",
    "\n",
    "- Polinomial runtime  \n",
    "\n",
    "For a given value of *n* its worst case runtime is the form of n raised to the k power where k just means some value\n",
    "\n",
    "- Exponential runtime **O(X<sup>n</sup>)** \n",
    "\n",
    "Is the value of some number raised to the nth power, we don't consider this runtime efficient. \n",
    "\n",
    "- Factorial / Combinatorial runtime **O(n!)**\n",
    "\n",
    "Factorials are basically n times n minus one repeated until you reach the number one."
   ]
  },
  {
   "cell_type": "code",
   "execution_count": 2,
   "metadata": {},
   "outputs": [
    {
     "name": "stdout",
     "output_type": "stream",
     "text": [
      "Target found at index:  5\n"
     ]
    }
   ],
   "source": [
    "# Linear Search in Code\n",
    "\n",
    "def linear_search(list, target):\n",
    "    \"\"\"\n",
    "    Return the index position of the target if found, else return none\n",
    "    \"\"\"\n",
    "\n",
    "    for i in range(0, len(list)):\n",
    "        if list[i] == target:\n",
    "            return i\n",
    "    return None\n",
    "\n",
    "def verify(index):\n",
    "    if index is not None:\n",
    "        print(\"Target found at index: \", index)\n",
    "    else:\n",
    "        print(\"Target not fount in list\")\n",
    "\n",
    "numbers = [1,2,3,4,5,6,7,8,9,10]\n",
    "\n",
    "result = linear_search(numbers, 6)\n",
    "verify(result)"
   ]
  },
  {
   "cell_type": "code",
   "execution_count": 5,
   "metadata": {},
   "outputs": [
    {
     "name": "stdout",
     "output_type": "stream",
     "text": [
      "Target not fount in list\n"
     ]
    }
   ],
   "source": [
    "# Binary Search in Code\n",
    "\n",
    "def binary_search(list, target):\n",
    "    first = 0\n",
    "    last = len(list) - 1\n",
    "\n",
    "    while first <= last:\n",
    "        midpoint = (first + last) // 2\n",
    "\n",
    "        if list[midpoint] == target:\n",
    "            return midpoint\n",
    "        elif list[midpoint] < target:\n",
    "            first = midpoint  + 1\n",
    "        else:\n",
    "            last = midpoint - 1\n",
    "    return None\n",
    "\n",
    "def verify(index):\n",
    "    if index is not None:\n",
    "        print(\"Target found at index: \", index)\n",
    "    else:\n",
    "        print(\"Target not fount in list\")\n",
    "        \n",
    "numbers = [1,2,3,4,5,6,7,8,9,10]\n",
    "\n",
    "result = linear_search(numbers, 12)\n",
    "verify(result)"
   ]
  },
  {
   "cell_type": "code",
   "execution_count": 6,
   "metadata": {},
   "outputs": [
    {
     "name": "stdout",
     "output_type": "stream",
     "text": [
      "Target found:  False\n",
      "Target found:  True\n"
     ]
    }
   ],
   "source": [
    "# Recursive Binary Search\n",
    "\n",
    "\"\"\"\n",
    "Recursive function is one that call itself\n",
    "\"\"\"\n",
    "\n",
    "def recursive_binary_search(list, target):\n",
    "    if len(list) == 0:\n",
    "        return False\n",
    "    else:\n",
    "        midpoint = (len(list)) // 2\n",
    "        \n",
    "        if list[midpoint] == target:\n",
    "            return True\n",
    "        else:\n",
    "            if list [midpoint] < target:\n",
    "                return recursive_binary_search(list[midpoint + 1:], target)\n",
    "            else: \n",
    "                return recursive_binary_search(list[:midpoint], target)\n",
    "\n",
    "def verify(result):\n",
    "    print(\"Target found: \", result)\n",
    "\n",
    "numbers = [1,2,3,4,5,6,7,8]\n",
    "result = recursive_binary_search(numbers, 12)\n",
    "verify(result)\n",
    "\n",
    "result = recursive_binary_search(numbers, 6)\n",
    "verify(result)"
   ]
  },
  {
   "cell_type": "markdown",
   "metadata": {},
   "source": [
    "## Recursive Functions\n",
    "\n",
    "A recursive function is one that call itself inside the body of the function, when writing a recursive function you always need a stopping condition."
   ]
  },
  {
   "cell_type": "markdown",
   "metadata": {},
   "source": [
    "## Space Complexity\n",
    "\n",
    "Is a Measure of how much working storage or extra storage is needed as a particular algorithm grows."
   ]
  }
 ],
 "metadata": {
  "kernelspec": {
   "display_name": "Python 3.10.2 64-bit",
   "language": "python",
   "name": "python3"
  },
  "language_info": {
   "codemirror_mode": {
    "name": "ipython",
    "version": 3
   },
   "file_extension": ".py",
   "mimetype": "text/x-python",
   "name": "python",
   "nbconvert_exporter": "python",
   "pygments_lexer": "ipython3",
   "version": "3.10.2"
  },
  "orig_nbformat": 4,
  "vscode": {
   "interpreter": {
    "hash": "7b6784033a0513167d4cd49af04fab122fb0a17dbe203b7b2c0f206a2fc79753"
   }
  }
 },
 "nbformat": 4,
 "nbformat_minor": 2
}
